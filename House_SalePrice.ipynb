{
 "cells": [
  {
   "cell_type": "code",
   "execution_count": 3162,
   "metadata": {
    "collapsed": false
   },
   "outputs": [],
   "source": [
    "import pandas as pd\n",
    "import matplotlib.pyplot as plt\n",
    "import seaborn as sns\n",
    "import numpy as np\n",
    "from scipy.stats import norm, skew, kurtosis\n",
    "from sklearn.preprocessing import StandardScaler\n",
    "from scipy import stats\n",
    "from sklearn import linear_model\n",
    "from sklearn.model_selection import KFold\n",
    "from sklearn.metrics import mean_squared_error\n",
    "from sklearn.linear_model import ElasticNet, Lasso,  BayesianRidge, LassoLarsIC\n",
    "from sklearn.ensemble import RandomForestRegressor,  GradientBoostingRegressor\n",
    "from sklearn.kernel_ridge import KernelRidge\n",
    "from sklearn.pipeline import make_pipeline\n",
    "from sklearn.preprocessing import RobustScaler\n",
    "from sklearn.base import BaseEstimator, TransformerMixin, RegressorMixin, clone\n",
    "from sklearn.model_selection import KFold, cross_val_score, train_test_split\n",
    "from scipy.special import boxcox,inv_boxcox\n",
    "# import xgboost as xgb\n",
    "# import lightgbm as lgb\n",
    "import warnings\n",
    "warnings.filterwarnings('ignore')\n",
    "%matplotlib inline\n",
    "# import os\n",
    "# print(os.listdir('../kaggle/Housing_Price'))"
   ]
  },
  {
   "cell_type": "code",
   "execution_count": 3163,
   "metadata": {
    "collapsed": false
   },
   "outputs": [],
   "source": [
    "df_train = pd.read_csv(\"~/Housing_Price/train.csv\")\n",
    "df_test = pd.read_csv(\"~/Housing_Price/test.csv\")"
   ]
  },
  {
   "cell_type": "code",
   "execution_count": 3164,
   "metadata": {
    "collapsed": false
   },
   "outputs": [
    {
     "name": "stdout",
     "output_type": "stream",
     "text": [
      "<class 'pandas.core.frame.DataFrame'>\n",
      "RangeIndex: 1460 entries, 0 to 1459\n",
      "Data columns (total 81 columns):\n",
      "Id               1460 non-null int64\n",
      "MSSubClass       1460 non-null int64\n",
      "MSZoning         1460 non-null object\n",
      "LotFrontage      1201 non-null float64\n",
      "LotArea          1460 non-null int64\n",
      "Street           1460 non-null object\n",
      "Alley            91 non-null object\n",
      "LotShape         1460 non-null object\n",
      "LandContour      1460 non-null object\n",
      "Utilities        1460 non-null object\n",
      "LotConfig        1460 non-null object\n",
      "LandSlope        1460 non-null object\n",
      "Neighborhood     1460 non-null object\n",
      "Condition1       1460 non-null object\n",
      "Condition2       1460 non-null object\n",
      "BldgType         1460 non-null object\n",
      "HouseStyle       1460 non-null object\n",
      "OverallQual      1460 non-null int64\n",
      "OverallCond      1460 non-null int64\n",
      "YearBuilt        1460 non-null int64\n",
      "YearRemodAdd     1460 non-null int64\n",
      "RoofStyle        1460 non-null object\n",
      "RoofMatl         1460 non-null object\n",
      "Exterior1st      1460 non-null object\n",
      "Exterior2nd      1460 non-null object\n",
      "MasVnrType       1452 non-null object\n",
      "MasVnrArea       1452 non-null float64\n",
      "ExterQual        1460 non-null object\n",
      "ExterCond        1460 non-null object\n",
      "Foundation       1460 non-null object\n",
      "BsmtQual         1423 non-null object\n",
      "BsmtCond         1423 non-null object\n",
      "BsmtExposure     1422 non-null object\n",
      "BsmtFinType1     1423 non-null object\n",
      "BsmtFinSF1       1460 non-null int64\n",
      "BsmtFinType2     1422 non-null object\n",
      "BsmtFinSF2       1460 non-null int64\n",
      "BsmtUnfSF        1460 non-null int64\n",
      "TotalBsmtSF      1460 non-null int64\n",
      "Heating          1460 non-null object\n",
      "HeatingQC        1460 non-null object\n",
      "CentralAir       1460 non-null object\n",
      "Electrical       1459 non-null object\n",
      "1stFlrSF         1460 non-null int64\n",
      "2ndFlrSF         1460 non-null int64\n",
      "LowQualFinSF     1460 non-null int64\n",
      "GrLivArea        1460 non-null int64\n",
      "BsmtFullBath     1460 non-null int64\n",
      "BsmtHalfBath     1460 non-null int64\n",
      "FullBath         1460 non-null int64\n",
      "HalfBath         1460 non-null int64\n",
      "BedroomAbvGr     1460 non-null int64\n",
      "KitchenAbvGr     1460 non-null int64\n",
      "KitchenQual      1460 non-null object\n",
      "TotRmsAbvGrd     1460 non-null int64\n",
      "Functional       1460 non-null object\n",
      "Fireplaces       1460 non-null int64\n",
      "FireplaceQu      770 non-null object\n",
      "GarageType       1379 non-null object\n",
      "GarageYrBlt      1379 non-null float64\n",
      "GarageFinish     1379 non-null object\n",
      "GarageCars       1460 non-null int64\n",
      "GarageArea       1460 non-null int64\n",
      "GarageQual       1379 non-null object\n",
      "GarageCond       1379 non-null object\n",
      "PavedDrive       1460 non-null object\n",
      "WoodDeckSF       1460 non-null int64\n",
      "OpenPorchSF      1460 non-null int64\n",
      "EnclosedPorch    1460 non-null int64\n",
      "3SsnPorch        1460 non-null int64\n",
      "ScreenPorch      1460 non-null int64\n",
      "PoolArea         1460 non-null int64\n",
      "PoolQC           7 non-null object\n",
      "Fence            281 non-null object\n",
      "MiscFeature      54 non-null object\n",
      "MiscVal          1460 non-null int64\n",
      "MoSold           1460 non-null int64\n",
      "YrSold           1460 non-null int64\n",
      "SaleType         1460 non-null object\n",
      "SaleCondition    1460 non-null object\n",
      "SalePrice        1460 non-null int64\n",
      "dtypes: float64(3), int64(35), object(43)\n",
      "memory usage: 924.0+ KB\n",
      "<class 'pandas.core.frame.DataFrame'>\n",
      "RangeIndex: 1459 entries, 0 to 1458\n",
      "Data columns (total 80 columns):\n",
      "Id               1459 non-null int64\n",
      "MSSubClass       1459 non-null int64\n",
      "MSZoning         1455 non-null object\n",
      "LotFrontage      1232 non-null float64\n",
      "LotArea          1459 non-null int64\n",
      "Street           1459 non-null object\n",
      "Alley            107 non-null object\n",
      "LotShape         1459 non-null object\n",
      "LandContour      1459 non-null object\n",
      "Utilities        1457 non-null object\n",
      "LotConfig        1459 non-null object\n",
      "LandSlope        1459 non-null object\n",
      "Neighborhood     1459 non-null object\n",
      "Condition1       1459 non-null object\n",
      "Condition2       1459 non-null object\n",
      "BldgType         1459 non-null object\n",
      "HouseStyle       1459 non-null object\n",
      "OverallQual      1459 non-null int64\n",
      "OverallCond      1459 non-null int64\n",
      "YearBuilt        1459 non-null int64\n",
      "YearRemodAdd     1459 non-null int64\n",
      "RoofStyle        1459 non-null object\n",
      "RoofMatl         1459 non-null object\n",
      "Exterior1st      1458 non-null object\n",
      "Exterior2nd      1458 non-null object\n",
      "MasVnrType       1443 non-null object\n",
      "MasVnrArea       1444 non-null float64\n",
      "ExterQual        1459 non-null object\n",
      "ExterCond        1459 non-null object\n",
      "Foundation       1459 non-null object\n",
      "BsmtQual         1415 non-null object\n",
      "BsmtCond         1414 non-null object\n",
      "BsmtExposure     1415 non-null object\n",
      "BsmtFinType1     1417 non-null object\n",
      "BsmtFinSF1       1458 non-null float64\n",
      "BsmtFinType2     1417 non-null object\n",
      "BsmtFinSF2       1458 non-null float64\n",
      "BsmtUnfSF        1458 non-null float64\n",
      "TotalBsmtSF      1458 non-null float64\n",
      "Heating          1459 non-null object\n",
      "HeatingQC        1459 non-null object\n",
      "CentralAir       1459 non-null object\n",
      "Electrical       1459 non-null object\n",
      "1stFlrSF         1459 non-null int64\n",
      "2ndFlrSF         1459 non-null int64\n",
      "LowQualFinSF     1459 non-null int64\n",
      "GrLivArea        1459 non-null int64\n",
      "BsmtFullBath     1457 non-null float64\n",
      "BsmtHalfBath     1457 non-null float64\n",
      "FullBath         1459 non-null int64\n",
      "HalfBath         1459 non-null int64\n",
      "BedroomAbvGr     1459 non-null int64\n",
      "KitchenAbvGr     1459 non-null int64\n",
      "KitchenQual      1458 non-null object\n",
      "TotRmsAbvGrd     1459 non-null int64\n",
      "Functional       1457 non-null object\n",
      "Fireplaces       1459 non-null int64\n",
      "FireplaceQu      729 non-null object\n",
      "GarageType       1383 non-null object\n",
      "GarageYrBlt      1381 non-null float64\n",
      "GarageFinish     1381 non-null object\n",
      "GarageCars       1458 non-null float64\n",
      "GarageArea       1458 non-null float64\n",
      "GarageQual       1381 non-null object\n",
      "GarageCond       1381 non-null object\n",
      "PavedDrive       1459 non-null object\n",
      "WoodDeckSF       1459 non-null int64\n",
      "OpenPorchSF      1459 non-null int64\n",
      "EnclosedPorch    1459 non-null int64\n",
      "3SsnPorch        1459 non-null int64\n",
      "ScreenPorch      1459 non-null int64\n",
      "PoolArea         1459 non-null int64\n",
      "PoolQC           3 non-null object\n",
      "Fence            290 non-null object\n",
      "MiscFeature      51 non-null object\n",
      "MiscVal          1459 non-null int64\n",
      "MoSold           1459 non-null int64\n",
      "YrSold           1459 non-null int64\n",
      "SaleType         1458 non-null object\n",
      "SaleCondition    1459 non-null object\n",
      "dtypes: float64(11), int64(26), object(43)\n",
      "memory usage: 912.0+ KB\n"
     ]
    }
   ],
   "source": [
    "df_train.info()\n",
    "df_test.info()"
   ]
  },
  {
   "cell_type": "code",
   "execution_count": 3165,
   "metadata": {
    "collapsed": false
   },
   "outputs": [
    {
     "data": {
      "text/plain": [
       "Index(['Id', 'MSSubClass', 'MSZoning', 'LotFrontage', 'LotArea', 'Street',\n",
       "       'Alley', 'LotShape', 'LandContour', 'Utilities', 'LotConfig',\n",
       "       'LandSlope', 'Neighborhood', 'Condition1', 'Condition2', 'BldgType',\n",
       "       'HouseStyle', 'OverallQual', 'OverallCond', 'YearBuilt', 'YearRemodAdd',\n",
       "       'RoofStyle', 'RoofMatl', 'Exterior1st', 'Exterior2nd', 'MasVnrType',\n",
       "       'MasVnrArea', 'ExterQual', 'ExterCond', 'Foundation', 'BsmtQual',\n",
       "       'BsmtCond', 'BsmtExposure', 'BsmtFinType1', 'BsmtFinSF1',\n",
       "       'BsmtFinType2', 'BsmtFinSF2', 'BsmtUnfSF', 'TotalBsmtSF', 'Heating',\n",
       "       'HeatingQC', 'CentralAir', 'Electrical', '1stFlrSF', '2ndFlrSF',\n",
       "       'LowQualFinSF', 'GrLivArea', 'BsmtFullBath', 'BsmtHalfBath', 'FullBath',\n",
       "       'HalfBath', 'BedroomAbvGr', 'KitchenAbvGr', 'KitchenQual',\n",
       "       'TotRmsAbvGrd', 'Functional', 'Fireplaces', 'FireplaceQu', 'GarageType',\n",
       "       'GarageYrBlt', 'GarageFinish', 'GarageCars', 'GarageArea', 'GarageQual',\n",
       "       'GarageCond', 'PavedDrive', 'WoodDeckSF', 'OpenPorchSF',\n",
       "       'EnclosedPorch', '3SsnPorch', 'ScreenPorch', 'PoolArea', 'PoolQC',\n",
       "       'Fence', 'MiscFeature', 'MiscVal', 'MoSold', 'YrSold', 'SaleType',\n",
       "       'SaleCondition', 'SalePrice'],\n",
       "      dtype='object')"
      ]
     },
     "execution_count": 3165,
     "metadata": {},
     "output_type": "execute_result"
    }
   ],
   "source": [
    "df_train.columns"
   ]
  },
  {
   "cell_type": "code",
   "execution_count": 3166,
   "metadata": {
    "collapsed": false
   },
   "outputs": [
    {
     "data": {
      "text/plain": [
       "count      1460.000000\n",
       "mean     180921.195890\n",
       "std       79442.502883\n",
       "min       34900.000000\n",
       "25%      129975.000000\n",
       "50%      163000.000000\n",
       "75%      214000.000000\n",
       "max      755000.000000\n",
       "Name: SalePrice, dtype: float64"
      ]
     },
     "execution_count": 3166,
     "metadata": {},
     "output_type": "execute_result"
    }
   ],
   "source": [
    "#check if there any zero in minimal of the price\n",
    "df_train['SalePrice'].describe()"
   ]
  },
  {
   "cell_type": "code",
   "execution_count": 3167,
   "metadata": {
    "collapsed": true
   },
   "outputs": [],
   "source": [
    "#sns.distplot(df_train['SalePrice'], bins=20, rug=True);"
   ]
  },
  {
   "cell_type": "code",
   "execution_count": 3168,
   "metadata": {
    "collapsed": false
   },
   "outputs": [
    {
     "name": "stdout",
     "output_type": "stream",
     "text": [
      "Skewness: 1.882876\n",
      "Kurtosis: 6.536282\n"
     ]
    }
   ],
   "source": [
    "#Skew = ambience distributions data (0=evenly distributed)\n",
    "#Kurt = to check the outlier data (3=standart value)\n",
    "print(\"Skewness: %f\" %df_train['SalePrice'].skew())\n",
    "print(\"Kurtosis: %f\" %df_train['SalePrice'].kurt())"
   ]
  },
  {
   "cell_type": "code",
   "execution_count": 3169,
   "metadata": {
    "collapsed": false
   },
   "outputs": [],
   "source": [
    "df_train_numeric=df_train.select_dtypes(exclude=['object'])\n",
    "df_target = df_train.SalePrice\n"
   ]
  },
  {
   "cell_type": "code",
   "execution_count": 3170,
   "metadata": {
    "collapsed": false
   },
   "outputs": [
    {
     "name": "stdout",
     "output_type": "stream",
     "text": [
      "BsmtFinSF2       0.011378\n",
      "BsmtHalfBath     0.016844\n",
      "MiscVal          0.021190\n",
      "Id               0.021917\n",
      "LowQualFinSF     0.025606\n",
      "YrSold           0.028923\n",
      "3SsnPorch        0.044584\n",
      "MoSold           0.046432\n",
      "OverallCond      0.077856\n",
      "MSSubClass       0.084284\n",
      "PoolArea         0.092404\n",
      "ScreenPorch      0.111447\n",
      "EnclosedPorch    0.128578\n",
      "KitchenAbvGr     0.135907\n",
      "BedroomAbvGr     0.168213\n",
      "BsmtUnfSF        0.214479\n",
      "BsmtFullBath     0.227122\n",
      "LotArea          0.263843\n",
      "HalfBath         0.284108\n",
      "OpenPorchSF      0.315856\n",
      "2ndFlrSF         0.319334\n",
      "WoodDeckSF       0.324413\n",
      "LotFrontage      0.351799\n",
      "BsmtFinSF1       0.386420\n",
      "Fireplaces       0.466929\n",
      "MasVnrArea       0.477493\n",
      "GarageYrBlt      0.486362\n",
      "YearRemodAdd     0.507101\n",
      "YearBuilt        0.522897\n",
      "TotRmsAbvGrd     0.533723\n",
      "FullBath         0.560664\n",
      "1stFlrSF         0.605852\n",
      "TotalBsmtSF      0.613581\n",
      "GarageArea       0.623431\n",
      "GarageCars       0.640409\n",
      "GrLivArea        0.708624\n",
      "OverallQual      0.790982\n",
      "SalePrice        1.000000\n",
      "Name: SalePrice, dtype: float64\n"
     ]
    }
   ],
   "source": [
    "corr_matrix=df_train_numeric.corr()['SalePrice'].abs().sort_values()\n",
    "print(corr_matrix)"
   ]
  },
  {
   "cell_type": "code",
   "execution_count": 3171,
   "metadata": {
    "collapsed": false
   },
   "outputs": [
    {
     "data": {
      "text/plain": [
       "<matplotlib.axes._subplots.AxesSubplot at 0x18d66769e80>"
      ]
     },
     "execution_count": 3171,
     "metadata": {},
     "output_type": "execute_result"
    },
    {
     "data": {
      "image/png": "[encoded data removed]",
      "text/plain": [
       "<matplotlib.figure.Figure at 0x18d66992160>"
      ]
     },
     "metadata": {},
     "output_type": "display_data"
    }
   ],
   "source": [
    "strong_corrs = corr_matrix[corr_matrix>0.5]\n",
    "corr_matrix = df_train_numeric[strong_corrs.index].corr()\n",
    "sns.heatmap(corr_matrix,annot=True, square=True,\n",
    "           fmt='.2f',)"
   ]
  },
  {
   "cell_type": "code",
   "execution_count": 3195,
   "metadata": {
    "collapsed": false
   },
   "outputs": [],
   "source": [
    "#Functions:\n",
    "def Fill_missing_values(df):\n",
    "    \n",
    "    #Since PoolQC has the highest null values according to the data documentation says null values means 'No Pool. \n",
    "    #Since majority of houses has no pool. So we will replace those null values with 'None'.\n",
    "    df[\"PoolQC\"] = df[\"PoolQC\"].fillna(\"None\")\n",
    "\n",
    "    #MiscFeature : Data documentation says NA means \"no misc feature\"\n",
    "    df[\"MiscFeature\"] = df[\"MiscFeature\"].fillna(\"None\")\n",
    "\n",
    "    #Alley : data description says NA means \"no alley access\"\n",
    "    df[\"Alley\"] = df[\"Alley\"].fillna(\"None\")\n",
    "\n",
    "    #Fence : data description says NA means \"no fence\"\n",
    "    df[\"Fence\"] = df[\"Fence\"].fillna(\"None\")\n",
    "\n",
    "    #FireplaceQu : data description says Null means \"no fireplace\"\n",
    "    df['FireplaceQu'] = df['FireplaceQu'].fillna('None')\n",
    "\n",
    "    #print(df_train.groupby(\"Neighborhood\")[\"LotFrontage\",\"Neighborhood\"].median())\n",
    "    df[\"LotFrontage\"] = df.groupby(\"Neighborhood\")[\"LotFrontage\"].transform(\n",
    "        lambda x: x.fillna(x.median()))\n",
    "    \n",
    "\n",
    "    # BsmtQual, BsmtCond, BsmtExposure, BsmtFinType1 and BsmtFinType2 : \n",
    "    #For all these categorical basement-related features, NaN means that there is no basement.\n",
    "\n",
    "    # GarageType, GarageFinish, GarageQual and GarageCond : Replacing missing data with None\n",
    "    for col in ('BsmtQual', 'BsmtCond', 'BsmtExposure', \n",
    "                'BsmtFinType1', 'BsmtFinType2',\n",
    "                'GarageType', 'GarageFinish', 'GarageQual', \n",
    "                'GarageCond'):\n",
    "        df[col] = df[col].fillna('None')\n",
    "\n",
    "    #GarageYrBlt replacing missing data with 0\n",
    "    df['GarageYrBlt'] = df['GarageYrBlt'].fillna(0)\n",
    "    \n",
    "\n",
    "    #MasVnrArea and MasVnrType : NA most likely means no masonry veneer for these houses.\n",
    "    #We can fill 0 for the area and None for the type\n",
    "    df[\"MasVnrType\"] = df[\"MasVnrType\"].fillna(\"None\")\n",
    "    df[\"MasVnrArea\"] = df[\"MasVnrArea\"].fillna(0)\n",
    "\n",
    "    #BsmtFinSF1, BsmtFinSF2, BsmtUnfSF, TotalBsmtSF, BsmtFullBath and BsmtHalfBath : \n",
    "    #missing values are likely zero for having no basement\n",
    "    for col in ('BsmtFinSF1', 'BsmtFinSF2', 'BsmtUnfSF','TotalBsmtSF', 'BsmtFullBath', 'BsmtHalfBath'):\n",
    "        df[col] = df[col].fillna(0)\n",
    "\n",
    "    #BsmtQual, BsmtCond, BsmtExposure, BsmtFinType1 and BsmtFinType2 :\n",
    "    #For all these categorical basement-related features, NaN means that there is no basement\n",
    "    for col in ('BsmtQual', 'BsmtCond', 'BsmtExposure', 'BsmtFinType1', 'BsmtFinType2'):\n",
    "        df[col] = df[col].fillna('None')\n",
    "\n",
    "    #MSZoning (The general zoning classification) : 'RL' is by far the most common value.\n",
    "    #So we can fill in missing values with 'RL'\n",
    "    df['MSZoning'].value_counts()\n",
    "    df['MSZoning'] = df['MSZoning'].fillna(df['MSZoning'].mode()[0])\n",
    "\n",
    "    #Utilities : Since this is a categorical data and most of the data are of same category, Its not gonna effect on model. \n",
    "    #So we choose to drop it\n",
    "    df['Utilities'].value_counts()\n",
    "    df = df.drop(['Utilities'], axis=1)\n",
    "\n",
    "    #Electrical,KitchenQual, Exterior1st, Exterior2nd, SaleType : \n",
    "    #Since this all are categorical values so its better to replace nan values with the most used keyword.\n",
    "    mode_col = ['Electrical','KitchenQual', 'Exterior1st', 'Exterior2nd', 'SaleType']\n",
    "    for col in mode_col:\n",
    "        df[col] = df[col].fillna(df[col].mode()[0])\n",
    "\n",
    "    #Functional : data description says NA means typical\n",
    "    df[\"Functional\"] = df[\"Functional\"].fillna(\"Typ\")\n",
    "\n",
    "    #MSSubClass : Na most likely means No building class. We can replace missing values with None\n",
    "    df['MSSubClass'] = df['MSSubClass'].fillna(\"None\")\n",
    "    \n",
    "    return df"
   ]
  },
  {
   "cell_type": "code",
   "execution_count": 3196,
   "metadata": {
    "collapsed": false
   },
   "outputs": [],
   "source": [
    "def Process_missing_data(df,strtype):\n",
    "    #Missing data percentage\n",
    "    cols=df.columns\n",
    "    if strtype =='train':\n",
    "        cols=cols.drop(['SalePrice'])\n",
    "    total = df[cols].isnull().sum().sort_values(ascending=False)\n",
    "    percent = ((df[cols].isnull().sum()/df[cols].isnull().count())*100).sort_values(ascending=False)\n",
    "    missing_data = pd.concat([total, percent], axis=1, keys=['Total', 'Percent'])\n",
    "    \n",
    "#     f, ax = plt.subplots(figsize=(15,12))\n",
    "#     plt.xticks(rotation='90')\n",
    "#     sns.barplot(x=total.index, y=total)\n",
    "#     plt.xlabel('Features', fontsize=15)\n",
    "#     plt.ylabel('Percent of missing values',fontsize=15)\n",
    "#     plt.title('Percent missing data by feature',fontsize=15)\n",
    "    #plt.show()##uncomment later\n",
    "    # drop columns/keys that have more than 50% of null values\n",
    "    #df = df.drop((missing_data[missing_data['Percent'] > 50 ]).index)\n",
    "\n",
    "    df=Fill_missing_values(df)\n",
    "    return df\n",
    "\n",
    "\n"
   ]
  },
  {
   "cell_type": "markdown",
   "metadata": {},
   "source": [
    "Removing Outliers<br/>\n",
    "Outlinear in the GrLivArea is recommended by the author of the data to remove it.We can see that there are outlinear with low SalePrice and high GrLivArea. This looks odd. We need to remove it"
   ]
  },
  {
   "cell_type": "code",
   "execution_count": 3197,
   "metadata": {
    "collapsed": false
   },
   "outputs": [],
   "source": [
    "def Remove_Outliers(df_notnull,dtype):\n",
    "    if dtype=='train':\n",
    "#         fig, ax = plt.subplots()\n",
    "#         ax.scatter(x = df_notnull['GrLivArea'], y = df_notnull['SalePrice'])\n",
    "#         plt.ylabel('SalePrice', fontsize=13)\n",
    "#         plt.xlabel('GrLivArea', fontsize=13)\n",
    "        # plt.show()##uncomment later\n",
    "        df_notnull = df_notnull.drop(df_notnull[(df_notnull['GrLivArea']>4000) & (df_notnull['SalePrice']<300000)].index)\n",
    "    else:\n",
    "        a=1\n",
    "    return df_notnull    "
   ]
  },
  {
   "cell_type": "code",
   "execution_count": 3198,
   "metadata": {
    "collapsed": false
   },
   "outputs": [],
   "source": [
    "def Create_newfeatures(df_rem_outlier):\n",
    "    #Year values aren't representative of how old a house is.Instead of the years certain events happened, we want the difference between those years\n",
    "    ##years_sold = df_rem_outlier['YrSold'] - df_rem_outlier['YearBuilt']\n",
    "\n",
    "    ##years_since_remod = df_rem_outlier['YrSold'] - df_rem_outlier['YearRemodAdd']\n",
    "\n",
    "    ## Create new columns\n",
    "    ##df_rem_outlier['YearsBefSale'] = years_sold\n",
    "    ##df_rem_outlier['YearsSinceRemod'] = years_since_remod\n",
    "\n",
    "    ## Drop rows with negative values for both of these new features\n",
    "    #df_rem_outlier = df_rem_outlier[~(df_rem_outlier['YearsBefSale','YearsSinceRemod'] < 0)]\n",
    "    #df_rem_outlier = df_rem_outlier.drop([523, 2295, 2549], axis=0)\n",
    "    ##df_rem_outlier[df_rem_outlier['YearsBefSale'] < 0] = 0\n",
    "    ##df_rem_outlier[df_rem_outlier['YearsSinceRemod'] < 0] = 0\n",
    "  \n",
    "#   df_rem_outlier.drop((df_rem_outlier[(df_rem_outlier.YearsBefSale < 0)\n",
    "#     df_rem_outlier.drop((df_rem_outlier[(df_rem_outlier.YearsBefSale < 0) | (df_rem_outlier.YearsSinceRemod <0)].index),inplace=True)\n",
    "    \n",
    "    ## No longer need original year columns\n",
    "    ##df_rem_outlier = df_rem_outlier.drop([\"YearBuilt\", \"YearRemodAdd\"], axis = 1)\n",
    "\n",
    "    #Since area related features are very important to determine house prices, we add one more feature which is the total area of basement, first and second floor areas of each house\n",
    "    df_rem_outlier['TotalSF'] = df_rem_outlier['TotalBsmtSF'] + df_rem_outlier['1stFlrSF'] + df_rem_outlier['2ndFlrSF']\n",
    "    return df_rem_outlier"
   ]
  },
  {
   "cell_type": "code",
   "execution_count": 3199,
   "metadata": {
    "collapsed": false
   },
   "outputs": [],
   "source": [
    "def drop_columns(df_new_feats):\n",
    "    ## Drop columns that leak info about the final sale\n",
    "    df_new_feats = df_new_feats.drop([\"MoSold\", \"SaleCondition\", \"SaleType\", \"YrSold\"], axis=1)\n",
    "    ##Drop columns of low variance ##todo\n",
    "    return df_new_feats\n",
    "    "
   ]
  },
  {
   "cell_type": "code",
   "execution_count": 3200,
   "metadata": {
    "collapsed": false
   },
   "outputs": [],
   "source": [
    "def plot_target(target):\n",
    "\n",
    "    sns.distplot(target, fit=norm);\n",
    "    fig = plt.figure()\n",
    "    res = stats.probplot(target, plot=plt)\n",
    "\n",
    "\n",
    "def remove_skew(df_clean,type):\n",
    "    #skewed features\n",
    "\n",
    "    numeric_feats = df_clean.dtypes[df_clean.dtypes !='object'].index\n",
    "    #numeric_feats = df_combined.select_dtypes(exclude=['category'])\n",
    "\n",
    "    # Check the skew of all numerical features\n",
    "    skewed_feats = df_clean[numeric_feats].apply(lambda x: skew(x.dropna())).sort_values(ascending=False)\n",
    "    print(\"\\nSkew in numerical features: \\n\")\n",
    "    skewness = pd.DataFrame({'Skew' :skewed_feats})\n",
    "    skewness.head(20)\n",
    " \n",
    "    if type=='train':\n",
    "        Skewness in target column Saleprice\n",
    "        skewed_target=skew(df_clean['SalePrice'])\n",
    "        print('skew in SalePrice')\n",
    "        #plot_target(df_clean['SalePrice'])\n",
    "        \n",
    "    \n",
    "    skewness = skewness[abs(skewness) > 0.75]\n",
    "    print(\"There are {} skewed numerical features to log transform\".format(skewness.shape[0]))\n",
    "\n",
    "#     from scipy.special import log1p\n",
    "    skewed_features = skewness.index\n",
    "    lam = 0.15\n",
    "    for feat in skewed_features:\n",
    "        #df_train[feat] += 1\n",
    "        #df_clean[feat] = np.boxcox1p(df_clean[feat], lam)\n",
    "        df_clean[feat] = np.log1p(df_clean[feat])\n",
    "\n",
    "    if type=='train':\n",
    "        #Skewness in target column Saleprice\n",
    "        #skewed_target=skew(df_clean['SalePrice'])\n",
    "        print('SalePrice after normalisation')\n",
    "        plot_target(df_clean['SalePrice'])\n",
    "    \n",
    "    return df_clean"
   ]
  },
  {
   "cell_type": "code",
   "execution_count": 3201,
   "metadata": {
    "collapsed": false
   },
   "outputs": [],
   "source": [
    "def transform_features(df):\n",
    "    #dummy encoding all categorical features\n",
    "    text_cols = df.select_dtypes(include=['object']).columns\n",
    "    \n",
    "    dummies=pd.get_dummies(df[text_cols])\n",
    "    df = pd.concat([df, dummies], axis=1) \n",
    "    df=df.drop(text_cols,axis=1)\n",
    "    #df_clean=pd.getdummies(df_clean,drop_first=True)\n",
    "    \n",
    "    return df\n",
    "    "
   ]
  },
  {
   "cell_type": "code",
   "execution_count": 3202,
   "metadata": {
    "collapsed": false
   },
   "outputs": [],
   "source": [
    "\n",
    "def Pre_Process(df,strtype):\n",
    "    df_notnull=Process_missing_data(df,strtype)\n",
    "    #print(df_notnull.info())\n",
    "    df_rem_outlier=Remove_Outliers(df_notnull,strtype)\n",
    "    #print(df_rem_outlier.info())\n",
    "    df_new_feats=Create_newfeatures(df_rem_outlier)\n",
    "    #print(df_new_feats.info())\n",
    "    #df_clean=drop_columns(df_new_feats)\n",
    "    #print(df_clean.info())\n",
    "    df_unskewed=remove_skew(df_new_feats,strtype)\n",
    "    df_transform=transform_features(df_unskewed)\n",
    "    \n",
    "    return df_transform"
   ]
  },
  {
   "cell_type": "code",
   "execution_count": 3203,
   "metadata": {
    "collapsed": true
   },
   "outputs": [],
   "source": [
    "def align_testdataset(train_cols,test):\n",
    "    missing_cols = set(train_cols ) - set( test.columns )\n",
    "    # Add a missing column in test set with default value equal to 0\n",
    "    for c in missing_cols:\n",
    "        test[c] = 0\n",
    "    # Ensure the order of column in the test set is in the same order than in train set\n",
    "    test = test[train_cols]\n",
    "    return test"
   ]
  },
  {
   "cell_type": "code",
   "execution_count": 3204,
   "metadata": {
    "collapsed": false
   },
   "outputs": [
    {
     "name": "stdout",
     "output_type": "stream",
     "text": [
      "\n",
      "Skew in numerical features: \n",
      "\n",
      "There are 38 skewed numerical features to log transform\n",
      "\n",
      "Skew in numerical features: \n",
      "\n",
      "There are 37 skewed numerical features to log transform\n",
      "(1458, 300)\n",
      "(1459, 300)\n"
     ]
    }
   ],
   "source": [
    "#Save the 'Id' column\n",
    "train_ID = df_train['Id']\n",
    "test_id=df_test[\"Id\"]\n",
    "\n",
    "#Now drop the  'Id' colum since it's unnecessary for  the prediction process.\n",
    "df_train.drop(\"Id\", axis = 1, inplace = True)\n",
    "df_test.drop(\"Id\", axis = 1, inplace = True)\n",
    "\n",
    "#Preprocess train and test data\n",
    "df_train=Pre_Process(df_train,'train') \n",
    "df_test=Pre_Process(df_test,'test')\n",
    "\n",
    "#drop target column from train data\n",
    "train_target=df_train[\"SalePrice\"]\n",
    "df_train.drop(\"SalePrice\", axis = 1, inplace = True)\n",
    "\n",
    "#Ensure test and train columns match\n",
    "df_test=align_testdataset(df_train.columns,df_test)\n",
    "\n",
    "print(df_train.shape)\n",
    "print(df_test.shape)\n",
    "\n",
    "\n"
   ]
  },
  {
   "cell_type": "code",
   "execution_count": 3205,
   "metadata": {
    "collapsed": true
   },
   "outputs": [],
   "source": [
    "#Validation function\n",
    "n_folds = 5\n",
    "\n",
    "def rmsle_cv(model,df_train,target):\n",
    "    kf = KFold(n_folds, shuffle=True, random_state=42).get_n_splits(df_train.values)\n",
    "    rmse= np.sqrt(-cross_val_score(model, df_train.values, target, scoring=\"neg_mean_squared_error\", cv = kf))\n",
    "    return(rmse)\n",
    "    "
   ]
  },
  {
   "cell_type": "code",
   "execution_count": 3206,
   "metadata": {
    "collapsed": false
   },
   "outputs": [
    {
     "name": "stdout",
     "output_type": "stream",
     "text": [
      "Kernel Ridge score: 0.1168 (0.0058)\n",
      "\n",
      "Lasso score: 0.1116 (0.0069)\n",
      "\n",
      "ElasticNet score: 0.1116 (0.0069)\n",
      "\n",
      "[ 119299.51348702  161230.46652694  186953.37234579 ...,  172940.96474051\n",
      "  118064.65206676  217542.95438503]\n"
     ]
    }
   ],
   "source": [
    "def train_test(df_train,df_test,target):\n",
    "          \n",
    "#     df_train=df_train.select_dtypes(include=['int64','float64'])\n",
    "#     df_test=df_test.select_dtypes(include=['int64','float64'])\n",
    "    df_test=df_test.fillna(0)\n",
    "    df_train=df_train.fillna(0)\n",
    "    #lr = linear_model.LinearRegression()\n",
    "    rmse_values = []\n",
    "    \n",
    "#To make our model avoid Overfitting and noisy we will use Regularization\n",
    "    #Ridge Regression\n",
    "    KRR = KernelRidge(alpha=0.6, kernel='polynomial', degree=2, coef0=2.5)\n",
    "    score = rmsle_cv(KRR,df_train,target)\n",
    "    print(\"Kernel Ridge score: {:.4f} ({:.4f})\\n\".format(score.mean(), score.std()))\n",
    "    \n",
    "    #Lasso regression\n",
    "    lasso = make_pipeline(RobustScaler(), Lasso(alpha =0.0005, random_state=1))\n",
    "    score = rmsle_cv(lasso,df_train,target)\n",
    "    print(\"Lasso score: {:.4f} ({:.4f})\\n\".format(score.mean(), score.std()))\n",
    "    \n",
    "    #ElasticNet Regression\n",
    "    ENet = make_pipeline(RobustScaler(), ElasticNet(alpha=0.0005, l1_ratio=.9, random_state=3))\n",
    "    score = rmsle_cv(ENet,df_train,target)\n",
    "    print(\"ElasticNet score: {:.4f} ({:.4f})\\n\".format(score.mean(), score.std()))\n",
    "    \n",
    "    Gradient Boosting Regression\n",
    "    GBoost = GradientBoostingRegressor(n_estimators=3000, learning_rate=0.05,\n",
    "                                   max_depth=30, max_features='sqrt',\n",
    "                                   min_samples_leaf=15, min_samples_split=10, \n",
    "                                   loss='huber', random_state =5)\n",
    "    score = rmsle_cv(GBoost,df_train,target)\n",
    "   print(\"Gradient Boosting score: {:.4f} ({:.4f})\\n\".format(score.mean(), score.std()))\n",
    "    \n",
    "#Fit the training dataset on every model\n",
    "    \n",
    "    LassoMd = lasso.fit(df_train.values,target)\n",
    "    ENetMd = ENet.fit(df_train.values,target)\n",
    "    KRRMd = KRR.fit(df_train.values,target)\n",
    "    GBoostMd = GBoost.fit(df_train.values,target)\n",
    "\n",
    "    #final_predictions=(np.expm1(LassoMd.predict(df_test.values)) + np.expm1(ENetMd.predict(df_test.values)) + np.expm1(KRRMd.predict(df_test.values)) + np.expm1(GBoostMd.predict(df_test.values)) ) / 4\n",
    "    final_predictions=(np.expm1(LassoMd.predict(df_test.values)) + np.expm1(ENetMd.predict(df_test.values)) + np.expm1(KRRMd.predict(df_test.values))) / 3\n",
    "    \n",
    "    print (final_predictions)\n",
    "    return final_predictions\n",
    " \n",
    "final_predictions=train_test(df_train,df_test,train_target)"
   ]
  },
  {
   "cell_type": "code",
   "execution_count": 3207,
   "metadata": {
    "collapsed": false
   },
   "outputs": [],
   "source": [
    "def save_submission_file(final_predictions):\n",
    "\n",
    "    ss = pd.read_csv('~/Housing_Price/sample_submission.csv')\n",
    "    ss.loc[:, 'SalePrice'] = final_predictions\n",
    "\n",
    "    ss.to_csv('~/Housing_Price/Result.csv',\n",
    "              index=False)\n",
    "\n",
    "save_submission_file(final_predictions)    "
   ]
  },
  {
   "cell_type": "code",
   "execution_count": null,
   "metadata": {
    "collapsed": false
   },
   "outputs": [],
   "source": []
  }
 ],
 "metadata": {
  "kernelspec": {
   "display_name": "Python 3",
   "language": "python",
   "name": "python3"
  },
  "language_info": {
   "codemirror_mode": {
    "name": "ipython",
    "version": 3
   },
   "file_extension": ".py",
   "mimetype": "text/x-python",
   "name": "python",
   "nbconvert_exporter": "python",
   "pygments_lexer": "ipython3",
   "version": "3.6.0"
  }
 },
 "nbformat": 4,
 "nbformat_minor": 2
}
